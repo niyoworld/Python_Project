{
 "cells": [
  {
   "cell_type": "code",
   "execution_count": 1,
   "metadata": {},
   "outputs": [],
   "source": [
    "def print_full_name():\n",
    "    first_name = input('Type your first name')\n",
    "    last_name = input('Type your last name')\n",
    "    '''\n",
    "    this function will return the first and last name of users and tell them they just delve into python \n",
    "\n",
    "    args\n",
    "    --------\n",
    "    first_name = input('Type your first name')\n",
    "    last_name = input('Type your last name')\n",
    "\n",
    "    example\n",
    "    ---------\n",
    "    input\n",
    "        first_name = 'Niyi'\n",
    "        last_name = 'Adebayo'\n",
    "    output\n",
    "        Hello Niyi Adebayo! You just delved into python\n",
    "        \n",
    "    '''\n",
    "    greeting = f\"Hello {first_name} {last_name}! You just delved into python\"\n",
    "    print(greeting)"
   ]
  },
  {
   "cell_type": "code",
   "execution_count": 3,
   "metadata": {},
   "outputs": [
    {
     "name": "stdout",
     "output_type": "stream",
     "text": [
      "Hello Niyi Adebayo! You just delved into python\n"
     ]
    }
   ],
   "source": [
    "print_full_name()\n"
   ]
  },
  {
   "cell_type": "code",
   "execution_count": 20,
   "metadata": {},
   "outputs": [
    {
     "name": "stdout",
     "output_type": "stream",
     "text": [
      "Hello Maggie Smart! You just delved into python\n"
     ]
    }
   ],
   "source": [
    "print_full_name()"
   ]
  },
  {
   "cell_type": "code",
   "execution_count": 21,
   "metadata": {},
   "outputs": [
    {
     "name": "stdout",
     "output_type": "stream",
     "text": [
      "Hello 12 13! You just delved into python\n"
     ]
    }
   ],
   "source": [
    "print_full_name()"
   ]
  }
 ],
 "metadata": {
  "kernelspec": {
   "display_name": "base",
   "language": "python",
   "name": "python3"
  },
  "language_info": {
   "codemirror_mode": {
    "name": "ipython",
    "version": 3
   },
   "file_extension": ".py",
   "mimetype": "text/x-python",
   "name": "python",
   "nbconvert_exporter": "python",
   "pygments_lexer": "ipython3",
   "version": "3.9.7"
  }
 },
 "nbformat": 4,
 "nbformat_minor": 2
}
